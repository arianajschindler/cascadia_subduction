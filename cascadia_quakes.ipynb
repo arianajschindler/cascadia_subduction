{
  "nbformat": 4,
  "nbformat_minor": 0,
  "metadata": {
    "colab": {
      "name": "cascadia_quakes.ipynb",
      "provenance": [],
      "authorship_tag": "ABX9TyMv/NTp/gz7irH/W5R0IhCG",
      "include_colab_link": true
    },
    "kernelspec": {
      "name": "python3",
      "display_name": "Python 3"
    },
    "language_info": {
      "name": "python"
    }
  },
  "cells": [
    {
      "cell_type": "markdown",
      "metadata": {
        "id": "view-in-github",
        "colab_type": "text"
      },
      "source": [
        "<a href=\"https://colab.research.google.com/github/arianajschindler/cascadia_subduction/blob/main/cascadia_quakes.ipynb\" target=\"_parent\"><img src=\"https://colab.research.google.com/assets/colab-badge.svg\" alt=\"Open In Colab\"/></a>"
      ]
    },
    {
      "cell_type": "markdown",
      "source": [
        "Data on the 40 major earthquakes of the Cascadia subduction zone over the last 10,000 years.\n",
        "\n",
        "datasource: https://projects.oregonlive.com/maps/earthquakes/timeline"
      ],
      "metadata": {
        "id": "OTNMnklGlpW3"
      }
    },
    {
      "cell_type": "code",
      "execution_count": null,
      "metadata": {
        "id": "bnRo_k-UhWig",
        "colab": {
          "base_uri": "https://localhost:8080/"
        },
        "outputId": "72633c77-8447-44f7-f054-7a9c632df4cf"
      },
      "outputs": [
        {
          "output_type": "stream",
          "name": "stdout",
          "text": [
            "Mounted at /gdrive\n"
          ]
        }
      ],
      "source": [
        "# mounting the google drive\n",
        "from google.colab import drive\n",
        "drive.mount('/gdrive')"
      ]
    },
    {
      "cell_type": "code",
      "source": [
        "import pandas as pd"
      ],
      "metadata": {
        "id": "h1B1Yrfriwhz"
      },
      "execution_count": null,
      "outputs": []
    },
    {
      "cell_type": "code",
      "source": [
        "# importing data\n",
        "cascadia = pd.read_csv('/gdrive/MyDrive/BioStat/cascadia_quakes.csv')\n",
        "cascadia.head()"
      ],
      "metadata": {
        "colab": {
          "base_uri": "https://localhost:8080/",
          "height": 206
        },
        "id": "9iZqC1rWhpQo",
        "outputId": "65664449-2d9c-4143-f609-3d940c890bc1"
      },
      "execution_count": null,
      "outputs": [
        {
          "output_type": "execute_result",
          "data": {
            "text/html": [
              "\n",
              "  <div id=\"df-f25798bc-cf03-4142-b64b-bc71b8a191ad\">\n",
              "    <div class=\"colab-df-container\">\n",
              "      <div>\n",
              "<style scoped>\n",
              "    .dataframe tbody tr th:only-of-type {\n",
              "        vertical-align: middle;\n",
              "    }\n",
              "\n",
              "    .dataframe tbody tr th {\n",
              "        vertical-align: top;\n",
              "    }\n",
              "\n",
              "    .dataframe thead th {\n",
              "        text-align: right;\n",
              "    }\n",
              "</style>\n",
              "<table border=\"1\" class=\"dataframe\">\n",
              "  <thead>\n",
              "    <tr style=\"text-align: right;\">\n",
              "      <th></th>\n",
              "      <th>mean_age</th>\n",
              "      <th>years_between</th>\n",
              "      <th>year</th>\n",
              "      <th>magnitude</th>\n",
              "      <th>num_of_records</th>\n",
              "      <th>rupture_len</th>\n",
              "      <th>rupture_width</th>\n",
              "    </tr>\n",
              "  </thead>\n",
              "  <tbody>\n",
              "    <tr>\n",
              "      <th>0</th>\n",
              "      <td>9860</td>\n",
              "      <td>NaN</td>\n",
              "      <td>7845 BC</td>\n",
              "      <td>9.08</td>\n",
              "      <td>1</td>\n",
              "      <td>621.371</td>\n",
              "      <td>51.5738</td>\n",
              "    </tr>\n",
              "    <tr>\n",
              "      <th>1</th>\n",
              "      <td>9283</td>\n",
              "      <td>577.0</td>\n",
              "      <td>7268 BC</td>\n",
              "      <td>8.50</td>\n",
              "      <td>1</td>\n",
              "      <td>621.371</td>\n",
              "      <td>34.1754</td>\n",
              "    </tr>\n",
              "    <tr>\n",
              "      <th>2</th>\n",
              "      <td>9166</td>\n",
              "      <td>117.0</td>\n",
              "      <td>7151 BC</td>\n",
              "      <td>8.49</td>\n",
              "      <td>1</td>\n",
              "      <td>621.371</td>\n",
              "      <td>34.1754</td>\n",
              "    </tr>\n",
              "    <tr>\n",
              "      <th>3</th>\n",
              "      <td>9139</td>\n",
              "      <td>27.0</td>\n",
              "      <td>7124 BC</td>\n",
              "      <td>7.54</td>\n",
              "      <td>1</td>\n",
              "      <td>137.944</td>\n",
              "      <td>24.8548</td>\n",
              "    </tr>\n",
              "    <tr>\n",
              "      <th>4</th>\n",
              "      <td>8971</td>\n",
              "      <td>168.0</td>\n",
              "      <td>6956 BC</td>\n",
              "      <td>9.09</td>\n",
              "      <td>1</td>\n",
              "      <td>621.371</td>\n",
              "      <td>51.5738</td>\n",
              "    </tr>\n",
              "  </tbody>\n",
              "</table>\n",
              "</div>\n",
              "      <button class=\"colab-df-convert\" onclick=\"convertToInteractive('df-f25798bc-cf03-4142-b64b-bc71b8a191ad')\"\n",
              "              title=\"Convert this dataframe to an interactive table.\"\n",
              "              style=\"display:none;\">\n",
              "        \n",
              "  <svg xmlns=\"http://www.w3.org/2000/svg\" height=\"24px\"viewBox=\"0 0 24 24\"\n",
              "       width=\"24px\">\n",
              "    <path d=\"M0 0h24v24H0V0z\" fill=\"none\"/>\n",
              "    <path d=\"M18.56 5.44l.94 2.06.94-2.06 2.06-.94-2.06-.94-.94-2.06-.94 2.06-2.06.94zm-11 1L8.5 8.5l.94-2.06 2.06-.94-2.06-.94L8.5 2.5l-.94 2.06-2.06.94zm10 10l.94 2.06.94-2.06 2.06-.94-2.06-.94-.94-2.06-.94 2.06-2.06.94z\"/><path d=\"M17.41 7.96l-1.37-1.37c-.4-.4-.92-.59-1.43-.59-.52 0-1.04.2-1.43.59L10.3 9.45l-7.72 7.72c-.78.78-.78 2.05 0 2.83L4 21.41c.39.39.9.59 1.41.59.51 0 1.02-.2 1.41-.59l7.78-7.78 2.81-2.81c.8-.78.8-2.07 0-2.86zM5.41 20L4 18.59l7.72-7.72 1.47 1.35L5.41 20z\"/>\n",
              "  </svg>\n",
              "      </button>\n",
              "      \n",
              "  <style>\n",
              "    .colab-df-container {\n",
              "      display:flex;\n",
              "      flex-wrap:wrap;\n",
              "      gap: 12px;\n",
              "    }\n",
              "\n",
              "    .colab-df-convert {\n",
              "      background-color: #E8F0FE;\n",
              "      border: none;\n",
              "      border-radius: 50%;\n",
              "      cursor: pointer;\n",
              "      display: none;\n",
              "      fill: #1967D2;\n",
              "      height: 32px;\n",
              "      padding: 0 0 0 0;\n",
              "      width: 32px;\n",
              "    }\n",
              "\n",
              "    .colab-df-convert:hover {\n",
              "      background-color: #E2EBFA;\n",
              "      box-shadow: 0px 1px 2px rgba(60, 64, 67, 0.3), 0px 1px 3px 1px rgba(60, 64, 67, 0.15);\n",
              "      fill: #174EA6;\n",
              "    }\n",
              "\n",
              "    [theme=dark] .colab-df-convert {\n",
              "      background-color: #3B4455;\n",
              "      fill: #D2E3FC;\n",
              "    }\n",
              "\n",
              "    [theme=dark] .colab-df-convert:hover {\n",
              "      background-color: #434B5C;\n",
              "      box-shadow: 0px 1px 3px 1px rgba(0, 0, 0, 0.15);\n",
              "      filter: drop-shadow(0px 1px 2px rgba(0, 0, 0, 0.3));\n",
              "      fill: #FFFFFF;\n",
              "    }\n",
              "  </style>\n",
              "\n",
              "      <script>\n",
              "        const buttonEl =\n",
              "          document.querySelector('#df-f25798bc-cf03-4142-b64b-bc71b8a191ad button.colab-df-convert');\n",
              "        buttonEl.style.display =\n",
              "          google.colab.kernel.accessAllowed ? 'block' : 'none';\n",
              "\n",
              "        async function convertToInteractive(key) {\n",
              "          const element = document.querySelector('#df-f25798bc-cf03-4142-b64b-bc71b8a191ad');\n",
              "          const dataTable =\n",
              "            await google.colab.kernel.invokeFunction('convertToInteractive',\n",
              "                                                     [key], {});\n",
              "          if (!dataTable) return;\n",
              "\n",
              "          const docLinkHtml = 'Like what you see? Visit the ' +\n",
              "            '<a target=\"_blank\" href=https://colab.research.google.com/notebooks/data_table.ipynb>data table notebook</a>'\n",
              "            + ' to learn more about interactive tables.';\n",
              "          element.innerHTML = '';\n",
              "          dataTable['output_type'] = 'display_data';\n",
              "          await google.colab.output.renderOutput(dataTable, element);\n",
              "          const docLink = document.createElement('div');\n",
              "          docLink.innerHTML = docLinkHtml;\n",
              "          element.appendChild(docLink);\n",
              "        }\n",
              "      </script>\n",
              "    </div>\n",
              "  </div>\n",
              "  "
            ],
            "text/plain": [
              "   mean_age  years_between     year  ...  num_of_records  rupture_len  rupture_width\n",
              "0      9860            NaN  7845 BC  ...               1      621.371        51.5738\n",
              "1      9283          577.0  7268 BC  ...               1      621.371        34.1754\n",
              "2      9166          117.0  7151 BC  ...               1      621.371        34.1754\n",
              "3      9139           27.0  7124 BC  ...               1      137.944        24.8548\n",
              "4      8971          168.0  6956 BC  ...               1      621.371        51.5738\n",
              "\n",
              "[5 rows x 7 columns]"
            ]
          },
          "metadata": {},
          "execution_count": 3
        }
      ]
    },
    {
      "cell_type": "code",
      "source": [
        "# checking quick statistics\n",
        "cascadia.describe()"
      ],
      "metadata": {
        "colab": {
          "base_uri": "https://localhost:8080/",
          "height": 300
        },
        "id": "KBhpjdZ0jtTc",
        "outputId": "6c19306e-3b7c-44b3-d27b-a8d2684f9c76"
      },
      "execution_count": null,
      "outputs": [
        {
          "output_type": "execute_result",
          "data": {
            "text/html": [
              "\n",
              "  <div id=\"df-5bcb075c-08f3-41e5-be50-7d4ba18b8697\">\n",
              "    <div class=\"colab-df-container\">\n",
              "      <div>\n",
              "<style scoped>\n",
              "    .dataframe tbody tr th:only-of-type {\n",
              "        vertical-align: middle;\n",
              "    }\n",
              "\n",
              "    .dataframe tbody tr th {\n",
              "        vertical-align: top;\n",
              "    }\n",
              "\n",
              "    .dataframe thead th {\n",
              "        text-align: right;\n",
              "    }\n",
              "</style>\n",
              "<table border=\"1\" class=\"dataframe\">\n",
              "  <thead>\n",
              "    <tr style=\"text-align: right;\">\n",
              "      <th></th>\n",
              "      <th>mean_age</th>\n",
              "      <th>years_between</th>\n",
              "      <th>magnitude</th>\n",
              "      <th>num_of_records</th>\n",
              "      <th>rupture_len</th>\n",
              "      <th>rupture_width</th>\n",
              "    </tr>\n",
              "  </thead>\n",
              "  <tbody>\n",
              "    <tr>\n",
              "      <th>count</th>\n",
              "      <td>40.000000</td>\n",
              "      <td>39.000000</td>\n",
              "      <td>40.000000</td>\n",
              "      <td>40.0</td>\n",
              "      <td>40.000000</td>\n",
              "      <td>40.000000</td>\n",
              "    </tr>\n",
              "    <tr>\n",
              "      <th>mean</th>\n",
              "      <td>4710.475000</td>\n",
              "      <td>244.743590</td>\n",
              "      <td>8.588250</td>\n",
              "      <td>1.0</td>\n",
              "      <td>422.376925</td>\n",
              "      <td>38.291995</td>\n",
              "    </tr>\n",
              "    <tr>\n",
              "      <th>std</th>\n",
              "      <td>2868.769279</td>\n",
              "      <td>122.435099</td>\n",
              "      <td>0.387675</td>\n",
              "      <td>0.0</td>\n",
              "      <td>205.860613</td>\n",
              "      <td>11.048149</td>\n",
              "    </tr>\n",
              "    <tr>\n",
              "      <th>min</th>\n",
              "      <td>315.000000</td>\n",
              "      <td>27.000000</td>\n",
              "      <td>7.540000</td>\n",
              "      <td>1.0</td>\n",
              "      <td>137.944000</td>\n",
              "      <td>24.854800</td>\n",
              "    </tr>\n",
              "    <tr>\n",
              "      <th>25%</th>\n",
              "      <td>2316.250000</td>\n",
              "      <td>167.000000</td>\n",
              "      <td>8.317500</td>\n",
              "      <td>1.0</td>\n",
              "      <td>275.889000</td>\n",
              "      <td>31.068600</td>\n",
              "    </tr>\n",
              "    <tr>\n",
              "      <th>50%</th>\n",
              "      <td>4551.500000</td>\n",
              "      <td>232.000000</td>\n",
              "      <td>8.525000</td>\n",
              "      <td>1.0</td>\n",
              "      <td>410.105000</td>\n",
              "      <td>34.175400</td>\n",
              "    </tr>\n",
              "    <tr>\n",
              "      <th>75%</th>\n",
              "      <td>7037.750000</td>\n",
              "      <td>291.500000</td>\n",
              "      <td>8.970000</td>\n",
              "      <td>1.0</td>\n",
              "      <td>621.371000</td>\n",
              "      <td>51.573800</td>\n",
              "    </tr>\n",
              "    <tr>\n",
              "      <th>max</th>\n",
              "      <td>9860.000000</td>\n",
              "      <td>577.000000</td>\n",
              "      <td>9.130000</td>\n",
              "      <td>1.0</td>\n",
              "      <td>621.371000</td>\n",
              "      <td>51.573800</td>\n",
              "    </tr>\n",
              "  </tbody>\n",
              "</table>\n",
              "</div>\n",
              "      <button class=\"colab-df-convert\" onclick=\"convertToInteractive('df-5bcb075c-08f3-41e5-be50-7d4ba18b8697')\"\n",
              "              title=\"Convert this dataframe to an interactive table.\"\n",
              "              style=\"display:none;\">\n",
              "        \n",
              "  <svg xmlns=\"http://www.w3.org/2000/svg\" height=\"24px\"viewBox=\"0 0 24 24\"\n",
              "       width=\"24px\">\n",
              "    <path d=\"M0 0h24v24H0V0z\" fill=\"none\"/>\n",
              "    <path d=\"M18.56 5.44l.94 2.06.94-2.06 2.06-.94-2.06-.94-.94-2.06-.94 2.06-2.06.94zm-11 1L8.5 8.5l.94-2.06 2.06-.94-2.06-.94L8.5 2.5l-.94 2.06-2.06.94zm10 10l.94 2.06.94-2.06 2.06-.94-2.06-.94-.94-2.06-.94 2.06-2.06.94z\"/><path d=\"M17.41 7.96l-1.37-1.37c-.4-.4-.92-.59-1.43-.59-.52 0-1.04.2-1.43.59L10.3 9.45l-7.72 7.72c-.78.78-.78 2.05 0 2.83L4 21.41c.39.39.9.59 1.41.59.51 0 1.02-.2 1.41-.59l7.78-7.78 2.81-2.81c.8-.78.8-2.07 0-2.86zM5.41 20L4 18.59l7.72-7.72 1.47 1.35L5.41 20z\"/>\n",
              "  </svg>\n",
              "      </button>\n",
              "      \n",
              "  <style>\n",
              "    .colab-df-container {\n",
              "      display:flex;\n",
              "      flex-wrap:wrap;\n",
              "      gap: 12px;\n",
              "    }\n",
              "\n",
              "    .colab-df-convert {\n",
              "      background-color: #E8F0FE;\n",
              "      border: none;\n",
              "      border-radius: 50%;\n",
              "      cursor: pointer;\n",
              "      display: none;\n",
              "      fill: #1967D2;\n",
              "      height: 32px;\n",
              "      padding: 0 0 0 0;\n",
              "      width: 32px;\n",
              "    }\n",
              "\n",
              "    .colab-df-convert:hover {\n",
              "      background-color: #E2EBFA;\n",
              "      box-shadow: 0px 1px 2px rgba(60, 64, 67, 0.3), 0px 1px 3px 1px rgba(60, 64, 67, 0.15);\n",
              "      fill: #174EA6;\n",
              "    }\n",
              "\n",
              "    [theme=dark] .colab-df-convert {\n",
              "      background-color: #3B4455;\n",
              "      fill: #D2E3FC;\n",
              "    }\n",
              "\n",
              "    [theme=dark] .colab-df-convert:hover {\n",
              "      background-color: #434B5C;\n",
              "      box-shadow: 0px 1px 3px 1px rgba(0, 0, 0, 0.15);\n",
              "      filter: drop-shadow(0px 1px 2px rgba(0, 0, 0, 0.3));\n",
              "      fill: #FFFFFF;\n",
              "    }\n",
              "  </style>\n",
              "\n",
              "      <script>\n",
              "        const buttonEl =\n",
              "          document.querySelector('#df-5bcb075c-08f3-41e5-be50-7d4ba18b8697 button.colab-df-convert');\n",
              "        buttonEl.style.display =\n",
              "          google.colab.kernel.accessAllowed ? 'block' : 'none';\n",
              "\n",
              "        async function convertToInteractive(key) {\n",
              "          const element = document.querySelector('#df-5bcb075c-08f3-41e5-be50-7d4ba18b8697');\n",
              "          const dataTable =\n",
              "            await google.colab.kernel.invokeFunction('convertToInteractive',\n",
              "                                                     [key], {});\n",
              "          if (!dataTable) return;\n",
              "\n",
              "          const docLinkHtml = 'Like what you see? Visit the ' +\n",
              "            '<a target=\"_blank\" href=https://colab.research.google.com/notebooks/data_table.ipynb>data table notebook</a>'\n",
              "            + ' to learn more about interactive tables.';\n",
              "          element.innerHTML = '';\n",
              "          dataTable['output_type'] = 'display_data';\n",
              "          await google.colab.output.renderOutput(dataTable, element);\n",
              "          const docLink = document.createElement('div');\n",
              "          docLink.innerHTML = docLinkHtml;\n",
              "          element.appendChild(docLink);\n",
              "        }\n",
              "      </script>\n",
              "    </div>\n",
              "  </div>\n",
              "  "
            ],
            "text/plain": [
              "          mean_age  years_between  ...  rupture_len  rupture_width\n",
              "count    40.000000      39.000000  ...    40.000000      40.000000\n",
              "mean   4710.475000     244.743590  ...   422.376925      38.291995\n",
              "std    2868.769279     122.435099  ...   205.860613      11.048149\n",
              "min     315.000000      27.000000  ...   137.944000      24.854800\n",
              "25%    2316.250000     167.000000  ...   275.889000      31.068600\n",
              "50%    4551.500000     232.000000  ...   410.105000      34.175400\n",
              "75%    7037.750000     291.500000  ...   621.371000      51.573800\n",
              "max    9860.000000     577.000000  ...   621.371000      51.573800\n",
              "\n",
              "[8 rows x 6 columns]"
            ]
          },
          "metadata": {},
          "execution_count": 4
        }
      ]
    },
    {
      "cell_type": "code",
      "source": [
        "# looking at the distribution of the 'years_between' variable\n",
        "cascadia.boxplot(column='years_between')"
      ],
      "metadata": {
        "colab": {
          "base_uri": "https://localhost:8080/",
          "height": 287
        },
        "id": "3BANVEB4lmVq",
        "outputId": "cd76b31a-9716-4d8a-f9d2-ca3e2a4ec47c"
      },
      "execution_count": null,
      "outputs": [
        {
          "output_type": "execute_result",
          "data": {
            "text/plain": [
              "<matplotlib.axes._subplots.AxesSubplot at 0x7f83a48a43d0>"
            ]
          },
          "metadata": {},
          "execution_count": 5
        },
        {
          "output_type": "display_data",
          "data": {
            "image/png": "[encoded data removed]",
            "text/plain": [
              "<Figure size 432x288 with 1 Axes>"
            ]
          },
          "metadata": {
            "needs_background": "light"
          }
        }
      ]
    },
    {
      "cell_type": "code",
      "source": [
        "# need to get rid of the first recorded observation when analyzing the years\n",
        "# between quakes because there is no data prior to that observation\n",
        "cascadia_no_nans = cascadia[1:]"
      ],
      "metadata": {
        "id": "UQC7_QvPm6_D"
      },
      "execution_count": null,
      "outputs": []
    },
    {
      "cell_type": "code",
      "source": [
        "# checking to make sure my new dataframe omitted the first original observation\n",
        "cascadia_no_nans.head()"
      ],
      "metadata": {
        "colab": {
          "base_uri": "https://localhost:8080/",
          "height": 206
        },
        "id": "FQH9dWlLnF3v",
        "outputId": "3dfb35f2-36e7-488a-f966-0162fa49bd02"
      },
      "execution_count": null,
      "outputs": [
        {
          "output_type": "execute_result",
          "data": {
            "text/html": [
              "\n",
              "  <div id=\"df-ac7774dd-b14d-4210-a4c6-0797a8c03f50\">\n",
              "    <div class=\"colab-df-container\">\n",
              "      <div>\n",
              "<style scoped>\n",
              "    .dataframe tbody tr th:only-of-type {\n",
              "        vertical-align: middle;\n",
              "    }\n",
              "\n",
              "    .dataframe tbody tr th {\n",
              "        vertical-align: top;\n",
              "    }\n",
              "\n",
              "    .dataframe thead th {\n",
              "        text-align: right;\n",
              "    }\n",
              "</style>\n",
              "<table border=\"1\" class=\"dataframe\">\n",
              "  <thead>\n",
              "    <tr style=\"text-align: right;\">\n",
              "      <th></th>\n",
              "      <th>mean_age</th>\n",
              "      <th>years_between</th>\n",
              "      <th>year</th>\n",
              "      <th>magnitude</th>\n",
              "      <th>num_of_records</th>\n",
              "      <th>rupture_len</th>\n",
              "      <th>rupture_width</th>\n",
              "    </tr>\n",
              "  </thead>\n",
              "  <tbody>\n",
              "    <tr>\n",
              "      <th>1</th>\n",
              "      <td>9283</td>\n",
              "      <td>577.0</td>\n",
              "      <td>7268 BC</td>\n",
              "      <td>8.50</td>\n",
              "      <td>1</td>\n",
              "      <td>621.371</td>\n",
              "      <td>34.1754</td>\n",
              "    </tr>\n",
              "    <tr>\n",
              "      <th>2</th>\n",
              "      <td>9166</td>\n",
              "      <td>117.0</td>\n",
              "      <td>7151 BC</td>\n",
              "      <td>8.49</td>\n",
              "      <td>1</td>\n",
              "      <td>621.371</td>\n",
              "      <td>34.1754</td>\n",
              "    </tr>\n",
              "    <tr>\n",
              "      <th>3</th>\n",
              "      <td>9139</td>\n",
              "      <td>27.0</td>\n",
              "      <td>7124 BC</td>\n",
              "      <td>7.54</td>\n",
              "      <td>1</td>\n",
              "      <td>137.944</td>\n",
              "      <td>24.8548</td>\n",
              "    </tr>\n",
              "    <tr>\n",
              "      <th>4</th>\n",
              "      <td>8971</td>\n",
              "      <td>168.0</td>\n",
              "      <td>6956 BC</td>\n",
              "      <td>9.09</td>\n",
              "      <td>1</td>\n",
              "      <td>621.371</td>\n",
              "      <td>51.5738</td>\n",
              "    </tr>\n",
              "    <tr>\n",
              "      <th>5</th>\n",
              "      <td>8524</td>\n",
              "      <td>447.0</td>\n",
              "      <td>6509 BC</td>\n",
              "      <td>8.36</td>\n",
              "      <td>1</td>\n",
              "      <td>137.944</td>\n",
              "      <td>24.8548</td>\n",
              "    </tr>\n",
              "  </tbody>\n",
              "</table>\n",
              "</div>\n",
              "      <button class=\"colab-df-convert\" onclick=\"convertToInteractive('df-ac7774dd-b14d-4210-a4c6-0797a8c03f50')\"\n",
              "              title=\"Convert this dataframe to an interactive table.\"\n",
              "              style=\"display:none;\">\n",
              "        \n",
              "  <svg xmlns=\"http://www.w3.org/2000/svg\" height=\"24px\"viewBox=\"0 0 24 24\"\n",
              "       width=\"24px\">\n",
              "    <path d=\"M0 0h24v24H0V0z\" fill=\"none\"/>\n",
              "    <path d=\"M18.56 5.44l.94 2.06.94-2.06 2.06-.94-2.06-.94-.94-2.06-.94 2.06-2.06.94zm-11 1L8.5 8.5l.94-2.06 2.06-.94-2.06-.94L8.5 2.5l-.94 2.06-2.06.94zm10 10l.94 2.06.94-2.06 2.06-.94-2.06-.94-.94-2.06-.94 2.06-2.06.94z\"/><path d=\"M17.41 7.96l-1.37-1.37c-.4-.4-.92-.59-1.43-.59-.52 0-1.04.2-1.43.59L10.3 9.45l-7.72 7.72c-.78.78-.78 2.05 0 2.83L4 21.41c.39.39.9.59 1.41.59.51 0 1.02-.2 1.41-.59l7.78-7.78 2.81-2.81c.8-.78.8-2.07 0-2.86zM5.41 20L4 18.59l7.72-7.72 1.47 1.35L5.41 20z\"/>\n",
              "  </svg>\n",
              "      </button>\n",
              "      \n",
              "  <style>\n",
              "    .colab-df-container {\n",
              "      display:flex;\n",
              "      flex-wrap:wrap;\n",
              "      gap: 12px;\n",
              "    }\n",
              "\n",
              "    .colab-df-convert {\n",
              "      background-color: #E8F0FE;\n",
              "      border: none;\n",
              "      border-radius: 50%;\n",
              "      cursor: pointer;\n",
              "      display: none;\n",
              "      fill: #1967D2;\n",
              "      height: 32px;\n",
              "      padding: 0 0 0 0;\n",
              "      width: 32px;\n",
              "    }\n",
              "\n",
              "    .colab-df-convert:hover {\n",
              "      background-color: #E2EBFA;\n",
              "      box-shadow: 0px 1px 2px rgba(60, 64, 67, 0.3), 0px 1px 3px 1px rgba(60, 64, 67, 0.15);\n",
              "      fill: #174EA6;\n",
              "    }\n",
              "\n",
              "    [theme=dark] .colab-df-convert {\n",
              "      background-color: #3B4455;\n",
              "      fill: #D2E3FC;\n",
              "    }\n",
              "\n",
              "    [theme=dark] .colab-df-convert:hover {\n",
              "      background-color: #434B5C;\n",
              "      box-shadow: 0px 1px 3px 1px rgba(0, 0, 0, 0.15);\n",
              "      filter: drop-shadow(0px 1px 2px rgba(0, 0, 0, 0.3));\n",
              "      fill: #FFFFFF;\n",
              "    }\n",
              "  </style>\n",
              "\n",
              "      <script>\n",
              "        const buttonEl =\n",
              "          document.querySelector('#df-ac7774dd-b14d-4210-a4c6-0797a8c03f50 button.colab-df-convert');\n",
              "        buttonEl.style.display =\n",
              "          google.colab.kernel.accessAllowed ? 'block' : 'none';\n",
              "\n",
              "        async function convertToInteractive(key) {\n",
              "          const element = document.querySelector('#df-ac7774dd-b14d-4210-a4c6-0797a8c03f50');\n",
              "          const dataTable =\n",
              "            await google.colab.kernel.invokeFunction('convertToInteractive',\n",
              "                                                     [key], {});\n",
              "          if (!dataTable) return;\n",
              "\n",
              "          const docLinkHtml = 'Like what you see? Visit the ' +\n",
              "            '<a target=\"_blank\" href=https://colab.research.google.com/notebooks/data_table.ipynb>data table notebook</a>'\n",
              "            + ' to learn more about interactive tables.';\n",
              "          element.innerHTML = '';\n",
              "          dataTable['output_type'] = 'display_data';\n",
              "          await google.colab.output.renderOutput(dataTable, element);\n",
              "          const docLink = document.createElement('div');\n",
              "          docLink.innerHTML = docLinkHtml;\n",
              "          element.appendChild(docLink);\n",
              "        }\n",
              "      </script>\n",
              "    </div>\n",
              "  </div>\n",
              "  "
            ],
            "text/plain": [
              "   mean_age  years_between     year  ...  num_of_records  rupture_len  rupture_width\n",
              "1      9283          577.0  7268 BC  ...               1      621.371        34.1754\n",
              "2      9166          117.0  7151 BC  ...               1      621.371        34.1754\n",
              "3      9139           27.0  7124 BC  ...               1      137.944        24.8548\n",
              "4      8971          168.0  6956 BC  ...               1      621.371        51.5738\n",
              "5      8524          447.0  6509 BC  ...               1      137.944        24.8548\n",
              "\n",
              "[5 rows x 7 columns]"
            ]
          },
          "metadata": {},
          "execution_count": 7
        }
      ]
    },
    {
      "cell_type": "code",
      "source": [
        "import matplotlib.pyplot as plt\n",
        "# create a scatterplot for two continuous variables: magnitude and years_between\n",
        "# I am curious if there is a relationship between the magnitude of the quake and how \n",
        "# many years since the previous major earthquake\n",
        "plt.scatter(x=cascadia_no_nans['magnitude'], y=cascadia_no_nans['years_between'])\n",
        "plt.xlabel(\"magnitude\")\n",
        "plt.ylabel('years_between')\n",
        "plt.show()"
      ],
      "metadata": {
        "colab": {
          "base_uri": "https://localhost:8080/",
          "height": 282
        },
        "id": "hmEMFj0pmCJT",
        "outputId": "08618d90-14ac-4c5b-a577-fd62c2568c98"
      },
      "execution_count": null,
      "outputs": [
        {
          "output_type": "display_data",
          "data": {
            "image/png": "[encoded data removed]",
            "text/plain": [
              "<Figure size 432x288 with 1 Axes>"
            ]
          },
          "metadata": {
            "needs_background": "light"
          }
        }
      ]
    },
    {
      "cell_type": "code",
      "source": [
        "# correlate the continuous variables for 'magnitude' and 'years_between'\n",
        "from scipy import stats\n",
        "x = cascadia_no_nans['magnitude']\n",
        "y = cascadia_no_nans['years_between']\n",
        "stats.pearsonr(x,y)"
      ],
      "metadata": {
        "colab": {
          "base_uri": "https://localhost:8080/"
        },
        "id": "7W9JflWemmrc",
        "outputId": "5960e617-ef16-4c76-9d7c-9cf6490d7bd3"
      },
      "execution_count": null,
      "outputs": [
        {
          "output_type": "execute_result",
          "data": {
            "text/plain": [
              "(0.3709971034495665, 0.020063267274037847)"
            ]
          },
          "metadata": {},
          "execution_count": 9
        }
      ]
    },
    {
      "cell_type": "markdown",
      "source": [
        "The first value is our correlation coefficient and the second value is our p-value to test for significance. With a p-value < 0.05, our correlation coefficient suggests a positive, moderate relationship between the two continuous variables."
      ],
      "metadata": {
        "id": "9sf6ETsuniLf"
      }
    },
    {
      "cell_type": "code",
      "source": [
        "import statsmodels.api as sm\n",
        "# add the constant to the x variable you previously defined\n",
        "X = sm.add_constant(x)\n",
        "Y = y\n",
        "\n",
        "# define the content of the model\n",
        "mod = sm.OLS(Y,X)\n",
        "\n",
        "# store the results of your fitted model\n",
        "res = mod.fit()\n",
        "\n",
        "#create a histogram of the residuals to confirm assumption of normality\n",
        "plt.hist(res.resid)"
      ],
      "metadata": {
        "colab": {
          "base_uri": "https://localhost:8080/",
          "height": 427
        },
        "id": "_iNfHllToDyQ",
        "outputId": "fe52f30e-5515-47e3-c2bb-686835e944a2"
      },
      "execution_count": null,
      "outputs": [
        {
          "output_type": "stream",
          "name": "stderr",
          "text": [
            "/usr/local/lib/python3.7/dist-packages/statsmodels/tools/_testing.py:19: FutureWarning: pandas.util.testing is deprecated. Use the functions in the public API at pandas.testing instead.\n",
            "  import pandas.util.testing as tm\n",
            "/usr/local/lib/python3.7/dist-packages/statsmodels/tsa/tsatools.py:117: FutureWarning: In a future version of pandas all arguments of concat except for the argument 'objs' will be keyword-only\n",
            "  x = pd.concat(x[::order], 1)\n"
          ]
        },
        {
          "output_type": "execute_result",
          "data": {
            "text/plain": [
              "(array([2., 9., 4., 7., 8., 4., 2., 2., 0., 1.]),\n",
              " array([-191.44076859, -138.17709859,  -84.91342859,  -31.64975859,\n",
              "          21.61391141,   74.87758141,  128.14125141,  181.40492141,\n",
              "         234.66859141,  287.93226141,  341.19593141]),\n",
              " <a list of 10 Patch objects>)"
            ]
          },
          "metadata": {},
          "execution_count": 10
        },
        {
          "output_type": "display_data",
          "data": {
            "image/png": "[encoded data removed]",
            "text/plain": [
              "<Figure size 432x288 with 1 Axes>"
            ]
          },
          "metadata": {
            "needs_background": "light"
          }
        }
      ]
    },
    {
      "cell_type": "markdown",
      "source": [
        "A limitation of this analysis is that there are only 40 observations, 39 of which are considered for the linear regression on the association between magnitude and years_between. While this does satisfy the requirement for normally-distributed data, it only does so by a few observations."
      ],
      "metadata": {
        "id": "zWcz-2jXoVaD"
      }
    },
    {
      "cell_type": "code",
      "source": [
        "print(res.summary())"
      ],
      "metadata": {
        "colab": {
          "base_uri": "https://localhost:8080/"
        },
        "id": "xN_VYsi4olBo",
        "outputId": "c0651251-73c9-4fb4-ae4f-1281587e6095"
      },
      "execution_count": null,
      "outputs": [
        {
          "output_type": "stream",
          "name": "stdout",
          "text": [
            "                            OLS Regression Results                            \n",
            "==============================================================================\n",
            "Dep. Variable:          years_between   R-squared:                       0.138\n",
            "Model:                            OLS   Adj. R-squared:                  0.114\n",
            "Method:                 Least Squares   F-statistic:                     5.905\n",
            "Date:                Thu, 17 Feb 2022   Prob (F-statistic):             0.0201\n",
            "Time:                        12:43:34   Log-Likelihood:                -239.44\n",
            "No. Observations:                  39   AIC:                             482.9\n",
            "Df Residuals:                      37   BIC:                             486.2\n",
            "Df Model:                           1                                         \n",
            "Covariance Type:            nonrobust                                         \n",
            "==============================================================================\n",
            "                 coef    std err          t      P>|t|      [0.025      0.975]\n",
            "------------------------------------------------------------------------------\n",
            "const       -768.7557    417.466     -1.841      0.074   -1614.622      77.111\n",
            "magnitude    118.1835     48.633      2.430      0.020      19.644     216.723\n",
            "==============================================================================\n",
            "Omnibus:                        5.916   Durbin-Watson:                   2.001\n",
            "Prob(Omnibus):                  0.052   Jarque-Bera (JB):                4.538\n",
            "Skew:                           0.762   Prob(JB):                        0.103\n",
            "Kurtosis:                       3.687   Cond. No.                         197.\n",
            "==============================================================================\n",
            "\n",
            "Warnings:\n",
            "[1] Standard Errors assume that the covariance matrix of the errors is correctly specified.\n"
          ]
        }
      ]
    },
    {
      "cell_type": "code",
      "source": [
        "# scatterplot with linear regression line for relationship \n",
        "import numpy as np\n",
        "\n",
        "x = cascadia_no_nans['magnitude']\n",
        "y = cascadia_no_nans['years_between']\n",
        "\n",
        "plt.plot(x, y, 'o')\n",
        "m, b = np.polyfit(x,y,1)\n",
        "plt.plot(x, m*x + b)\n",
        "\n",
        "plt.xlabel('magnitude')\n",
        "plt.ylabel('years between')\n",
        "plt.title('Linear Relationship between Magnutude and Years Between Previous Quake')\n",
        "\n",
        "# correlation\n",
        "print(\"December correlation coefficient for the 30-year timeframe:\")\n",
        "print(cascadia_no_nans['magnitude'].corr(cascadia_no_nans['years_between']))"
      ],
      "metadata": {
        "colab": {
          "base_uri": "https://localhost:8080/",
          "height": 331
        },
        "id": "pljuCeOSA5W7",
        "outputId": "437034eb-747d-4224-da28-98c41fbfd81a"
      },
      "execution_count": null,
      "outputs": [
        {
          "output_type": "stream",
          "name": "stdout",
          "text": [
            "December correlation coefficient for the 30-year timeframe:\n",
            "0.3709971034495665\n"
          ]
        },
        {
          "output_type": "display_data",
          "data": {
            "image/png": "[encoded data removed]",
            "text/plain": [
              "<Figure size 432x288 with 1 Axes>"
            ]
          },
          "metadata": {
            "needs_background": "light"
          }
        }
      ]
    },
    {
      "cell_type": "markdown",
      "source": [
        "There is a moderate positive linear relationship between the magnitude of the quake and the amount of years between quakes."
      ],
      "metadata": {
        "id": "exq3EvlQCIBo"
      }
    },
    {
      "cell_type": "markdown",
      "source": [
        "Now I want to look at only the earthquakes which had greater than or equalk to 322 years between. This will help give insight into what magnitude we can expect with the next earthquake since the association between magnitude and years between is significant."
      ],
      "metadata": {
        "id": "k4BlnNftCVYz"
      }
    },
    {
      "cell_type": "code",
      "source": [
        "cascadia_long_between = cascadia_no_nans[cascadia_no_nans['years_between'] >= 322]"
      ],
      "metadata": {
        "id": "wPyHnV-ICS6F"
      },
      "execution_count": null,
      "outputs": []
    },
    {
      "cell_type": "code",
      "source": [
        "#checking how many observations in the dataset had greater than or equal to 322 years between\n",
        "len(cascadia_long_between.index)"
      ],
      "metadata": {
        "colab": {
          "base_uri": "https://localhost:8080/"
        },
        "id": "7HHQAP21C896",
        "outputId": "18fa2011-583a-42a8-de7d-be4f3dcb55e2"
      },
      "execution_count": null,
      "outputs": [
        {
          "output_type": "execute_result",
          "data": {
            "text/plain": [
              "7"
            ]
          },
          "metadata": {},
          "execution_count": 14
        }
      ]
    },
    {
      "cell_type": "code",
      "source": [
        "cascadia_long_between.describe()"
      ],
      "metadata": {
        "colab": {
          "base_uri": "https://localhost:8080/",
          "height": 300
        },
        "id": "3PlOs4qzDsYu",
        "outputId": "d20f960a-7725-4971-8bac-f985b10f78c0"
      },
      "execution_count": null,
      "outputs": [
        {
          "output_type": "execute_result",
          "data": {
            "text/html": [
              "\n",
              "  <div id=\"df-af83417e-f426-4581-a6d6-3f905fd7bdc0\">\n",
              "    <div class=\"colab-df-container\">\n",
              "      <div>\n",
              "<style scoped>\n",
              "    .dataframe tbody tr th:only-of-type {\n",
              "        vertical-align: middle;\n",
              "    }\n",
              "\n",
              "    .dataframe tbody tr th {\n",
              "        vertical-align: top;\n",
              "    }\n",
              "\n",
              "    .dataframe thead th {\n",
              "        text-align: right;\n",
              "    }\n",
              "</style>\n",
              "<table border=\"1\" class=\"dataframe\">\n",
              "  <thead>\n",
              "    <tr style=\"text-align: right;\">\n",
              "      <th></th>\n",
              "      <th>mean_age</th>\n",
              "      <th>years_between</th>\n",
              "      <th>magnitude</th>\n",
              "      <th>num_of_records</th>\n",
              "      <th>rupture_len</th>\n",
              "      <th>rupture_width</th>\n",
              "    </tr>\n",
              "  </thead>\n",
              "  <tbody>\n",
              "    <tr>\n",
              "      <th>count</th>\n",
              "      <td>7.000000</td>\n",
              "      <td>7.000000</td>\n",
              "      <td>7.000000</td>\n",
              "      <td>7.0</td>\n",
              "      <td>7.000000</td>\n",
              "      <td>7.000000</td>\n",
              "    </tr>\n",
              "    <tr>\n",
              "      <th>mean</th>\n",
              "      <td>6748.142857</td>\n",
              "      <td>440.857143</td>\n",
              "      <td>8.788571</td>\n",
              "      <td>1.0</td>\n",
              "      <td>502.955429</td>\n",
              "      <td>39.856514</td>\n",
              "    </tr>\n",
              "    <tr>\n",
              "      <th>std</th>\n",
              "      <td>1765.556610</td>\n",
              "      <td>86.066696</td>\n",
              "      <td>0.308946</td>\n",
              "      <td>0.0</td>\n",
              "      <td>206.116368</td>\n",
              "      <td>11.392346</td>\n",
              "    </tr>\n",
              "    <tr>\n",
              "      <th>min</th>\n",
              "      <td>4173.000000</td>\n",
              "      <td>330.000000</td>\n",
              "      <td>8.360000</td>\n",
              "      <td>1.0</td>\n",
              "      <td>137.944000</td>\n",
              "      <td>24.854800</td>\n",
              "    </tr>\n",
              "    <tr>\n",
              "      <th>25%</th>\n",
              "      <td>5739.500000</td>\n",
              "      <td>391.000000</td>\n",
              "      <td>8.525000</td>\n",
              "      <td>1.0</td>\n",
              "      <td>448.630000</td>\n",
              "      <td>32.622000</td>\n",
              "    </tr>\n",
              "    <tr>\n",
              "      <th>50%</th>\n",
              "      <td>6531.000000</td>\n",
              "      <td>443.000000</td>\n",
              "      <td>8.930000</td>\n",
              "      <td>1.0</td>\n",
              "      <td>621.371000</td>\n",
              "      <td>34.175400</td>\n",
              "    </tr>\n",
              "    <tr>\n",
              "      <th>75%</th>\n",
              "      <td>7885.500000</td>\n",
              "      <td>477.000000</td>\n",
              "      <td>9.025000</td>\n",
              "      <td>1.0</td>\n",
              "      <td>621.371000</td>\n",
              "      <td>51.573800</td>\n",
              "    </tr>\n",
              "    <tr>\n",
              "      <th>max</th>\n",
              "      <td>9283.000000</td>\n",
              "      <td>577.000000</td>\n",
              "      <td>9.130000</td>\n",
              "      <td>1.0</td>\n",
              "      <td>621.371000</td>\n",
              "      <td>51.573800</td>\n",
              "    </tr>\n",
              "  </tbody>\n",
              "</table>\n",
              "</div>\n",
              "      <button class=\"colab-df-convert\" onclick=\"convertToInteractive('df-af83417e-f426-4581-a6d6-3f905fd7bdc0')\"\n",
              "              title=\"Convert this dataframe to an interactive table.\"\n",
              "              style=\"display:none;\">\n",
              "        \n",
              "  <svg xmlns=\"http://www.w3.org/2000/svg\" height=\"24px\"viewBox=\"0 0 24 24\"\n",
              "       width=\"24px\">\n",
              "    <path d=\"M0 0h24v24H0V0z\" fill=\"none\"/>\n",
              "    <path d=\"M18.56 5.44l.94 2.06.94-2.06 2.06-.94-2.06-.94-.94-2.06-.94 2.06-2.06.94zm-11 1L8.5 8.5l.94-2.06 2.06-.94-2.06-.94L8.5 2.5l-.94 2.06-2.06.94zm10 10l.94 2.06.94-2.06 2.06-.94-2.06-.94-.94-2.06-.94 2.06-2.06.94z\"/><path d=\"M17.41 7.96l-1.37-1.37c-.4-.4-.92-.59-1.43-.59-.52 0-1.04.2-1.43.59L10.3 9.45l-7.72 7.72c-.78.78-.78 2.05 0 2.83L4 21.41c.39.39.9.59 1.41.59.51 0 1.02-.2 1.41-.59l7.78-7.78 2.81-2.81c.8-.78.8-2.07 0-2.86zM5.41 20L4 18.59l7.72-7.72 1.47 1.35L5.41 20z\"/>\n",
              "  </svg>\n",
              "      </button>\n",
              "      \n",
              "  <style>\n",
              "    .colab-df-container {\n",
              "      display:flex;\n",
              "      flex-wrap:wrap;\n",
              "      gap: 12px;\n",
              "    }\n",
              "\n",
              "    .colab-df-convert {\n",
              "      background-color: #E8F0FE;\n",
              "      border: none;\n",
              "      border-radius: 50%;\n",
              "      cursor: pointer;\n",
              "      display: none;\n",
              "      fill: #1967D2;\n",
              "      height: 32px;\n",
              "      padding: 0 0 0 0;\n",
              "      width: 32px;\n",
              "    }\n",
              "\n",
              "    .colab-df-convert:hover {\n",
              "      background-color: #E2EBFA;\n",
              "      box-shadow: 0px 1px 2px rgba(60, 64, 67, 0.3), 0px 1px 3px 1px rgba(60, 64, 67, 0.15);\n",
              "      fill: #174EA6;\n",
              "    }\n",
              "\n",
              "    [theme=dark] .colab-df-convert {\n",
              "      background-color: #3B4455;\n",
              "      fill: #D2E3FC;\n",
              "    }\n",
              "\n",
              "    [theme=dark] .colab-df-convert:hover {\n",
              "      background-color: #434B5C;\n",
              "      box-shadow: 0px 1px 3px 1px rgba(0, 0, 0, 0.15);\n",
              "      filter: drop-shadow(0px 1px 2px rgba(0, 0, 0, 0.3));\n",
              "      fill: #FFFFFF;\n",
              "    }\n",
              "  </style>\n",
              "\n",
              "      <script>\n",
              "        const buttonEl =\n",
              "          document.querySelector('#df-af83417e-f426-4581-a6d6-3f905fd7bdc0 button.colab-df-convert');\n",
              "        buttonEl.style.display =\n",
              "          google.colab.kernel.accessAllowed ? 'block' : 'none';\n",
              "\n",
              "        async function convertToInteractive(key) {\n",
              "          const element = document.querySelector('#df-af83417e-f426-4581-a6d6-3f905fd7bdc0');\n",
              "          const dataTable =\n",
              "            await google.colab.kernel.invokeFunction('convertToInteractive',\n",
              "                                                     [key], {});\n",
              "          if (!dataTable) return;\n",
              "\n",
              "          const docLinkHtml = 'Like what you see? Visit the ' +\n",
              "            '<a target=\"_blank\" href=https://colab.research.google.com/notebooks/data_table.ipynb>data table notebook</a>'\n",
              "            + ' to learn more about interactive tables.';\n",
              "          element.innerHTML = '';\n",
              "          dataTable['output_type'] = 'display_data';\n",
              "          await google.colab.output.renderOutput(dataTable, element);\n",
              "          const docLink = document.createElement('div');\n",
              "          docLink.innerHTML = docLinkHtml;\n",
              "          element.appendChild(docLink);\n",
              "        }\n",
              "      </script>\n",
              "    </div>\n",
              "  </div>\n",
              "  "
            ],
            "text/plain": [
              "          mean_age  years_between  ...  rupture_len  rupture_width\n",
              "count     7.000000       7.000000  ...     7.000000       7.000000\n",
              "mean   6748.142857     440.857143  ...   502.955429      39.856514\n",
              "std    1765.556610      86.066696  ...   206.116368      11.392346\n",
              "min    4173.000000     330.000000  ...   137.944000      24.854800\n",
              "25%    5739.500000     391.000000  ...   448.630000      32.622000\n",
              "50%    6531.000000     443.000000  ...   621.371000      34.175400\n",
              "75%    7885.500000     477.000000  ...   621.371000      51.573800\n",
              "max    9283.000000     577.000000  ...   621.371000      51.573800\n",
              "\n",
              "[8 rows x 6 columns]"
            ]
          },
          "metadata": {},
          "execution_count": 15
        }
      ]
    },
    {
      "cell_type": "markdown",
      "source": [
        "A huge limitation here is that there are only 7 observations which fit the state of where we currently are in the Cascadia Subduction year_between length. The average magnitude for a quake with this length of time between is 8.79 with a standard deviation of 0.3. This is still valuable information, though since we only have 7 observations, it is not entirely reliable."
      ],
      "metadata": {
        "id": "XjbmlXnEEe0T"
      }
    },
    {
      "cell_type": "markdown",
      "source": [
        "Back to the model we fit!"
      ],
      "metadata": {
        "id": "VQdFYJOhxMO6"
      }
    },
    {
      "cell_type": "markdown",
      "source": [
        "Using scikit learn on a dataset with <50 observations is a bad idea but I did it anyway. Half for practice and half for curiosity."
      ],
      "metadata": {
        "id": "OtvZJPrOZ5Qz"
      }
    },
    {
      "cell_type": "code",
      "source": [
        "# visualizing the plot of fitted values vs residuals\n",
        "# i know this isnt a fancy plot. when i have more time i'll update it\n",
        "plt.scatter(res.fittedvalues, res.resid)"
      ],
      "metadata": {
        "colab": {
          "base_uri": "https://localhost:8080/",
          "height": 283
        },
        "id": "N_5S2Yk-KXec",
        "outputId": "7f238cd0-602b-4054-b662-786b45bf108c"
      },
      "execution_count": null,
      "outputs": [
        {
          "output_type": "execute_result",
          "data": {
            "text/plain": [
              "<matplotlib.collections.PathCollection at 0x7f8386c10e50>"
            ]
          },
          "metadata": {},
          "execution_count": 16
        },
        {
          "output_type": "display_data",
          "data": {
            "image/png": "[encoded data removed]",
            "text/plain": [
              "<Figure size 432x288 with 1 Axes>"
            ]
          },
          "metadata": {
            "needs_background": "light"
          }
        }
      ]
    },
    {
      "cell_type": "code",
      "source": [
        "# creating a histogram of the results.resid\n",
        "plt.hist(res.resid)"
      ],
      "metadata": {
        "colab": {
          "base_uri": "https://localhost:8080/",
          "height": 355
        },
        "id": "r8eMxqwfKgDR",
        "outputId": "66bf994e-b58a-42b1-c194-41e60c382f3b"
      },
      "execution_count": null,
      "outputs": [
        {
          "output_type": "execute_result",
          "data": {
            "text/plain": [
              "(array([2., 9., 4., 7., 8., 4., 2., 2., 0., 1.]),\n",
              " array([-191.44076859, -138.17709859,  -84.91342859,  -31.64975859,\n",
              "          21.61391141,   74.87758141,  128.14125141,  181.40492141,\n",
              "         234.66859141,  287.93226141,  341.19593141]),\n",
              " <a list of 10 Patch objects>)"
            ]
          },
          "metadata": {},
          "execution_count": 17
        },
        {
          "output_type": "display_data",
          "data": {
            "image/png": "[encoded data removed]",
            "text/plain": [
              "<Figure size 432x288 with 1 Axes>"
            ]
          },
          "metadata": {
            "needs_background": "light"
          }
        }
      ]
    },
    {
      "cell_type": "code",
      "source": [
        "# testing the normality\n",
        "import statsmodels.stats.api as sms\n",
        "sms.diagnostic.kstest_normal(res.resid)"
      ],
      "metadata": {
        "colab": {
          "base_uri": "https://localhost:8080/"
        },
        "id": "ukbsa0k1Kn-E",
        "outputId": "1ca97034-3cff-4745-b363-5a4f59706e87"
      },
      "execution_count": null,
      "outputs": [
        {
          "output_type": "execute_result",
          "data": {
            "text/plain": [
              "(0.11204454263279107, 0.2)"
            ]
          },
          "metadata": {},
          "execution_count": 18
        }
      ]
    },
    {
      "cell_type": "markdown",
      "source": [
        "Our p-value is greater than 0.05 so the results seem to be normally distributed."
      ],
      "metadata": {
        "id": "wsHuvYpcMHdN"
      }
    },
    {
      "cell_type": "code",
      "source": [
        "# testing heterogenity\n",
        "\n",
        "from statsmodels.stats.diagnostic import het_breuschpagan\n",
        "sms.het_breuschpagan(res.resid, X)"
      ],
      "metadata": {
        "colab": {
          "base_uri": "https://localhost:8080/"
        },
        "id": "f8StmD7RNHPo",
        "outputId": "cd56e3d0-dc15-4e1a-8c0e-5e680895dad3"
      },
      "execution_count": null,
      "outputs": [
        {
          "output_type": "execute_result",
          "data": {
            "text/plain": [
              "(0.21829910870067093,\n",
              " 0.6403389794126156,\n",
              " 0.20827005614230223,\n",
              " 0.6507944127033413)"
            ]
          },
          "metadata": {},
          "execution_count": 19
        }
      ]
    },
    {
      "cell_type": "markdown",
      "source": [
        "Test of heterogenity: test statistic is 0.208 and p-value is 0.65. Therefore, this meets the assumptions."
      ],
      "metadata": {
        "id": "O8zbtaQ3Np_4"
      }
    },
    {
      "cell_type": "code",
      "source": [
        "cascadia_no_nans = cascadia_no_nans.drop(columns=['year'])"
      ],
      "metadata": {
        "id": "Ktm2R9k9UjqG"
      },
      "execution_count": null,
      "outputs": []
    },
    {
      "cell_type": "code",
      "source": [
        "import seaborn as sn\n",
        "from sklearn.model_selection import train_test_split\n",
        "from sklearn.preprocessing import StandardScaler\n",
        "from sklearn.impute import SimpleImputer\n",
        "from sklearn.metrics import mean_squared_error\n",
        "\n",
        "X = cascadia_no_nans.drop(columns = ['years_between'])\n",
        "y = cascadia_no_nans['years_between']\n",
        "\n",
        "X_train, X_test, y_train, y_test = train_test_split(X, y, test_size=0.4, random_state=42)\n",
        "\n",
        "# fill missing values with medians\n",
        "imputer = SimpleImputer(strategy=\"median\")\n",
        "X_train_tr = imputer.fit_transform(X_train)\n",
        "# scaling the data\n",
        "scale = StandardScaler()\n",
        "X_train_tr = scale.fit_transform(X_train)\n",
        "\n",
        "# same for test data, though we do not want to fit it because we don't want it to learn from it\n",
        "X_test_tr = imputer.transform(X_test)\n",
        "X_test_tr = scale.transform(X_test_tr)\n",
        "\n"
      ],
      "metadata": {
        "colab": {
          "base_uri": "https://localhost:8080/"
        },
        "id": "2huQSViqR6PZ",
        "outputId": "4782e28f-c648-4c46-dc15-70e349b1cf3e"
      },
      "execution_count": null,
      "outputs": [
        {
          "output_type": "stream",
          "name": "stderr",
          "text": [
            "/usr/local/lib/python3.7/dist-packages/sklearn/base.py:451: UserWarning: X does not have valid feature names, but StandardScaler was fitted with feature names\n",
            "  \"X does not have valid feature names, but\"\n"
          ]
        }
      ]
    },
    {
      "cell_type": "code",
      "source": [
        "from sklearn.neighbors import KNeighborsRegressor\n",
        "\n",
        "# initiate the k-nearest neighbors regressor class\n",
        "knn = KNeighborsRegressor()\n",
        "# train the knn model on training data\n",
        "knn.fit(X_train_tr, y_train)\n",
        "# make predictions on test data\n",
        "y_pred = knn.predict(X_test_tr)\n",
        "# measure the performance of the model\n",
        "mse = mean_squared_error(y_test, y_pred)\n",
        "rmse = np.sqrt(mse)\n",
        "print(rmse)"
      ],
      "metadata": {
        "colab": {
          "base_uri": "https://localhost:8080/"
        },
        "id": "zGfUlcudVJX5",
        "outputId": "b0d8cfe4-be3d-4248-f5b8-caf2b34c3888"
      },
      "execution_count": null,
      "outputs": [
        {
          "output_type": "stream",
          "name": "stdout",
          "text": [
            "103.56118964167995\n"
          ]
        }
      ]
    },
    {
      "cell_type": "code",
      "source": [
        "plt.scatter(x= range(0, y_test.size), y=y_test, c = 'blue', label = 'Actual', alpha = 0.3)\n",
        "plt.scatter(x = range(0, y_pred.size), y=y_pred, c = 'red', label = 'Predicted', alpha = 0.3)\n",
        "\n",
        "plt.title('Actual and predicted values')\n",
        "plt.xlabel('observations')\n",
        "plt.ylabel('years_between')\n",
        "plt.legend()\n",
        "plt.show()"
      ],
      "metadata": {
        "colab": {
          "base_uri": "https://localhost:8080/",
          "height": 295
        },
        "id": "-Vhc1Is-V9XD",
        "outputId": "e34e6d79-4ffd-42a6-e3eb-912a3b95b592"
      },
      "execution_count": null,
      "outputs": [
        {
          "output_type": "display_data",
          "data": {
            "image/png": "[encoded data removed]",
            "text/plain": [
              "<Figure size 432x288 with 1 Axes>"
            ]
          },
          "metadata": {
            "needs_background": "light"
          }
        }
      ]
    }
  ]
}